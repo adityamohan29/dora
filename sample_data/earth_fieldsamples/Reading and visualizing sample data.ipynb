{
 "cells": [
  {
   "cell_type": "code",
   "execution_count": 1,
   "metadata": {},
   "outputs": [],
   "source": [
    "import pandas as pd\n",
    "import geopandas as gpd\n",
    "from shapely.geometry import shape\n",
    "import json\n",
    "\n",
    "import matplotlib.pyplot as plt\n",
    "%matplotlib inline"
   ]
  },
  {
   "cell_type": "markdown",
   "metadata": {},
   "source": [
    "Load the CSV file"
   ]
  },
  {
   "cell_type": "code",
   "execution_count": 2,
   "metadata": {},
   "outputs": [],
   "source": [
    "ndvi = gpd.read_file('landsat8_ndvi_2018-2020_sample-2k.csv')"
   ]
  },
  {
   "cell_type": "markdown",
   "metadata": {},
   "source": [
    "The location is exported from Google Earth Engine in GeoJSON format. We need to convert it to the format accepted for the GeoPandas geometry column."
   ]
  },
  {
   "cell_type": "code",
   "execution_count": 3,
   "metadata": {},
   "outputs": [],
   "source": [
    "ndvi['geometry'] = ndvi.apply(lambda row: shape(json.loads(row['.geo'])), axis=1)"
   ]
  },
  {
   "cell_type": "markdown",
   "metadata": {},
   "source": [
    "The dates are strings when they are read in, so we convert them to Pandas DateTime objects."
   ]
  },
  {
   "cell_type": "code",
   "execution_count": 4,
   "metadata": {},
   "outputs": [],
   "source": [
    "ndvi['date'] = pd.to_datetime(ndvi['date'])"
   ]
  },
  {
   "cell_type": "markdown",
   "metadata": {},
   "source": [
    "The geometry column allows us to plot the points spatially."
   ]
  },
  {
   "cell_type": "code",
   "execution_count": 5,
   "metadata": {},
   "outputs": [
    {
     "data": {
      "text/plain": [
       "<matplotlib.axes._subplots.AxesSubplot at 0x7fd7ba973f98>"
      ]
     },
     "execution_count": 5,
     "metadata": {},
     "output_type": "execute_result"
    },
    {
     "data": {
      "image/png": "[encoded data removed]",
      "text/plain": [
       "<Figure size 432x288 with 1 Axes>"
      ]
     },
     "metadata": {
      "needs_background": "light"
     },
     "output_type": "display_data"
    }
   ],
   "source": [
    "ndvi.plot()"
   ]
  },
  {
   "cell_type": "markdown",
   "metadata": {},
   "source": [
    "We can also preview the data as with normal pandas dataframes."
   ]
  },
  {
   "cell_type": "code",
   "execution_count": 6,
   "metadata": {},
   "outputs": [
    {
     "data": {
      "text/html": [
       "<div>\n",
       "<style scoped>\n",
       "    .dataframe tbody tr th:only-of-type {\n",
       "        vertical-align: middle;\n",
       "    }\n",
       "\n",
       "    .dataframe tbody tr th {\n",
       "        vertical-align: top;\n",
       "    }\n",
       "\n",
       "    .dataframe thead th {\n",
       "        text-align: right;\n",
       "    }\n",
       "</style>\n",
       "<table border=\"1\" class=\"dataframe\">\n",
       "  <thead>\n",
       "    <tr style=\"text-align: right;\">\n",
       "      <th></th>\n",
       "      <th>system:index</th>\n",
       "      <th>01-2018 to 02-2018</th>\n",
       "      <th>01-2019 to 02-2019</th>\n",
       "      <th>01-2020 to 02-2020</th>\n",
       "      <th>02-2018 to 03-2018</th>\n",
       "      <th>02-2019 to 03-2019</th>\n",
       "      <th>02-2020 to 03-2020</th>\n",
       "      <th>03-2018 to 04-2018</th>\n",
       "      <th>03-2019 to 04-2019</th>\n",
       "      <th>03-2020 to 04-2020</th>\n",
       "      <th>...</th>\n",
       "      <th>10-2020 to 11-2020</th>\n",
       "      <th>11-2018 to 12-2018</th>\n",
       "      <th>11-2019 to 12-2019</th>\n",
       "      <th>11-2020 to 12-2020</th>\n",
       "      <th>12-2018 to 01-2019</th>\n",
       "      <th>12-2019 to 01-2020</th>\n",
       "      <th>12-2020 to 01-2021</th>\n",
       "      <th>date</th>\n",
       "      <th>.geo</th>\n",
       "      <th>geometry</th>\n",
       "    </tr>\n",
       "  </thead>\n",
       "  <tbody>\n",
       "    <tr>\n",
       "      <th>0</th>\n",
       "      <td>0</td>\n",
       "      <td>0.4125303030014038</td>\n",
       "      <td>0.28317514061927795</td>\n",
       "      <td></td>\n",
       "      <td>0.4605826437473297</td>\n",
       "      <td>0.2888960540294647</td>\n",
       "      <td></td>\n",
       "      <td>0.04861186072230339</td>\n",
       "      <td>0.4281831681728363</td>\n",
       "      <td>0.29043781757354736</td>\n",
       "      <td>...</td>\n",
       "      <td>0.12893478572368622</td>\n",
       "      <td>0.15392448008060455</td>\n",
       "      <td>0.2333373874425888</td>\n",
       "      <td>0.0888809934258461</td>\n",
       "      <td>0.13741245865821838</td>\n",
       "      <td>0.21476705372333527</td>\n",
       "      <td>0.18726448714733124</td>\n",
       "      <td>2020-02-03</td>\n",
       "      <td>{\"type\":\"Point\",\"coordinates\":[35.32,-15.39]}</td>\n",
       "      <td>POINT (35.32000 -15.39000)</td>\n",
       "    </tr>\n",
       "    <tr>\n",
       "      <th>1</th>\n",
       "      <td>1</td>\n",
       "      <td>0.1489490121603012</td>\n",
       "      <td>0.14988276362419128</td>\n",
       "      <td>0.07585914433002472</td>\n",
       "      <td>0.1529611498117447</td>\n",
       "      <td>0.1530293971300125</td>\n",
       "      <td>0.13753148913383484</td>\n",
       "      <td>0.14787781238555908</td>\n",
       "      <td>0.14382785558700562</td>\n",
       "      <td>0.1411036103963852</td>\n",
       "      <td>...</td>\n",
       "      <td>0.1493956297636032</td>\n",
       "      <td>0.17961393296718597</td>\n",
       "      <td>0.18961374461650848</td>\n",
       "      <td>0.14799261093139648</td>\n",
       "      <td>0.14081870019435883</td>\n",
       "      <td>0.1573752611875534</td>\n",
       "      <td>0.14265429973602295</td>\n",
       "      <td>2020-02-03</td>\n",
       "      <td>{\"type\":\"Point\",\"coordinates\":[95.13,22.12]}</td>\n",
       "      <td>POINT (95.13000 22.12000)</td>\n",
       "    </tr>\n",
       "    <tr>\n",
       "      <th>2</th>\n",
       "      <td>2</td>\n",
       "      <td>0.0806429535150528</td>\n",
       "      <td>0.24006950855255127</td>\n",
       "      <td></td>\n",
       "      <td>0.27887722849845886</td>\n",
       "      <td>0.21174614131450653</td>\n",
       "      <td>0.07262792438268661</td>\n",
       "      <td>0.19706475734710693</td>\n",
       "      <td>0.3393693268299103</td>\n",
       "      <td>0.3207225203514099</td>\n",
       "      <td>...</td>\n",
       "      <td>0.10629143565893173</td>\n",
       "      <td>0.15993763506412506</td>\n",
       "      <td>0.11631131172180176</td>\n",
       "      <td>0.12974923849105835</td>\n",
       "      <td>0.09734513610601425</td>\n",
       "      <td>0.08893191069364548</td>\n",
       "      <td>0.13890498876571655</td>\n",
       "      <td>2020-02-03</td>\n",
       "      <td>{\"type\":\"Point\",\"coordinates\":[35.27,-13.06]}</td>\n",
       "      <td>POINT (35.27000 -13.06000)</td>\n",
       "    </tr>\n",
       "    <tr>\n",
       "      <th>3</th>\n",
       "      <td>3</td>\n",
       "      <td>0.10528296232223511</td>\n",
       "      <td>0.11243504285812378</td>\n",
       "      <td>0.10332165658473969</td>\n",
       "      <td>0.09719745069742203</td>\n",
       "      <td>0.10230612009763718</td>\n",
       "      <td>0.10391374677419662</td>\n",
       "      <td>0.1181308925151825</td>\n",
       "      <td>0.12203951179981232</td>\n",
       "      <td>0.11014188826084137</td>\n",
       "      <td>...</td>\n",
       "      <td>0.17543266713619232</td>\n",
       "      <td>0.14706951379776</td>\n",
       "      <td>0.15695501863956451</td>\n",
       "      <td>0.13548612594604492</td>\n",
       "      <td>0.1449538916349411</td>\n",
       "      <td>0.12134287506341934</td>\n",
       "      <td>0.1356714963912964</td>\n",
       "      <td>2020-02-03</td>\n",
       "      <td>{\"type\":\"Point\",\"coordinates\":[95.25,18.82]}</td>\n",
       "      <td>POINT (95.25000 18.82000)</td>\n",
       "    </tr>\n",
       "    <tr>\n",
       "      <th>4</th>\n",
       "      <td>4</td>\n",
       "      <td>0.1757315993309021</td>\n",
       "      <td>0.28190967440605164</td>\n",
       "      <td>0.20617562532424927</td>\n",
       "      <td>0.22363631427288055</td>\n",
       "      <td>0.2966252565383911</td>\n",
       "      <td>0.272464394569397</td>\n",
       "      <td>0.16276976466178894</td>\n",
       "      <td>0.15331533551216125</td>\n",
       "      <td>0.1397293210029602</td>\n",
       "      <td>...</td>\n",
       "      <td>0.2134152054786682</td>\n",
       "      <td>0.21598206460475922</td>\n",
       "      <td>0.1467892825603485</td>\n",
       "      <td>0.05699864402413368</td>\n",
       "      <td>0.1592201441526413</td>\n",
       "      <td>0.12017294019460678</td>\n",
       "      <td>0.09885216504335403</td>\n",
       "      <td>2020-02-03</td>\n",
       "      <td>{\"type\":\"Point\",\"coordinates\":[95.36,18.7]}</td>\n",
       "      <td>POINT (95.36000 18.70000)</td>\n",
       "    </tr>\n",
       "  </tbody>\n",
       "</table>\n",
       "<p>5 rows × 40 columns</p>\n",
       "</div>"
      ],
      "text/plain": [
       "  system:index   01-2018 to 02-2018   01-2019 to 02-2019   01-2020 to 02-2020  \\\n",
       "0            0   0.4125303030014038  0.28317514061927795                        \n",
       "1            1   0.1489490121603012  0.14988276362419128  0.07585914433002472   \n",
       "2            2   0.0806429535150528  0.24006950855255127                        \n",
       "3            3  0.10528296232223511  0.11243504285812378  0.10332165658473969   \n",
       "4            4   0.1757315993309021  0.28190967440605164  0.20617562532424927   \n",
       "\n",
       "    02-2018 to 03-2018   02-2019 to 03-2019   02-2020 to 03-2020  \\\n",
       "0   0.4605826437473297   0.2888960540294647                        \n",
       "1   0.1529611498117447   0.1530293971300125  0.13753148913383484   \n",
       "2  0.27887722849845886  0.21174614131450653  0.07262792438268661   \n",
       "3  0.09719745069742203  0.10230612009763718  0.10391374677419662   \n",
       "4  0.22363631427288055   0.2966252565383911    0.272464394569397   \n",
       "\n",
       "    03-2018 to 04-2018   03-2019 to 04-2019   03-2020 to 04-2020  ...  \\\n",
       "0  0.04861186072230339   0.4281831681728363  0.29043781757354736  ...   \n",
       "1  0.14787781238555908  0.14382785558700562   0.1411036103963852  ...   \n",
       "2  0.19706475734710693   0.3393693268299103   0.3207225203514099  ...   \n",
       "3   0.1181308925151825  0.12203951179981232  0.11014188826084137  ...   \n",
       "4  0.16276976466178894  0.15331533551216125   0.1397293210029602  ...   \n",
       "\n",
       "    10-2020 to 11-2020   11-2018 to 12-2018   11-2019 to 12-2019  \\\n",
       "0  0.12893478572368622  0.15392448008060455   0.2333373874425888   \n",
       "1   0.1493956297636032  0.17961393296718597  0.18961374461650848   \n",
       "2  0.10629143565893173  0.15993763506412506  0.11631131172180176   \n",
       "3  0.17543266713619232     0.14706951379776  0.15695501863956451   \n",
       "4   0.2134152054786682  0.21598206460475922   0.1467892825603485   \n",
       "\n",
       "    11-2020 to 12-2020   12-2018 to 01-2019   12-2019 to 01-2020  \\\n",
       "0   0.0888809934258461  0.13741245865821838  0.21476705372333527   \n",
       "1  0.14799261093139648  0.14081870019435883   0.1573752611875534   \n",
       "2  0.12974923849105835  0.09734513610601425  0.08893191069364548   \n",
       "3  0.13548612594604492   0.1449538916349411  0.12134287506341934   \n",
       "4  0.05699864402413368   0.1592201441526413  0.12017294019460678   \n",
       "\n",
       "    12-2020 to 01-2021       date  \\\n",
       "0  0.18726448714733124 2020-02-03   \n",
       "1  0.14265429973602295 2020-02-03   \n",
       "2  0.13890498876571655 2020-02-03   \n",
       "3   0.1356714963912964 2020-02-03   \n",
       "4  0.09885216504335403 2020-02-03   \n",
       "\n",
       "                                            .geo                    geometry  \n",
       "0  {\"type\":\"Point\",\"coordinates\":[35.32,-15.39]}  POINT (35.32000 -15.39000)  \n",
       "1   {\"type\":\"Point\",\"coordinates\":[95.13,22.12]}   POINT (95.13000 22.12000)  \n",
       "2  {\"type\":\"Point\",\"coordinates\":[35.27,-13.06]}  POINT (35.27000 -13.06000)  \n",
       "3   {\"type\":\"Point\",\"coordinates\":[95.25,18.82]}   POINT (95.25000 18.82000)  \n",
       "4    {\"type\":\"Point\",\"coordinates\":[95.36,18.7]}   POINT (95.36000 18.70000)  \n",
       "\n",
       "[5 rows x 40 columns]"
      ]
     },
     "execution_count": 6,
     "metadata": {},
     "output_type": "execute_result"
    }
   ],
   "source": [
    "ndvi.head()"
   ]
  },
  {
   "cell_type": "markdown",
   "metadata": {},
   "source": [
    "The columns are currently written as a date range. To make feature/column selection operations easier, we can convert these to pd.DateTime objects using the penultimate day of the interval as the date."
   ]
  },
  {
   "cell_type": "code",
   "execution_count": 7,
   "metadata": {},
   "outputs": [],
   "source": [
    "def range_to_date(interval):\n",
    "    start = interval.split('to')[0].strip()\n",
    "    end = interval.split('to')[1].strip()\n",
    "    return pd.date_range(start, end, freq='M')"
   ]
  },
  {
   "cell_type": "code",
   "execution_count": 8,
   "metadata": {},
   "outputs": [],
   "source": [
    "new_cols = []\n",
    "for col in ndvi.columns:\n",
    "    if 'to' in col:\n",
    "        new_cols.append(range_to_date(col)[0])\n",
    "    else:\n",
    "        new_cols.append(col)"
   ]
  },
  {
   "cell_type": "code",
   "execution_count": 9,
   "metadata": {},
   "outputs": [],
   "source": [
    "ndvi.columns = new_cols"
   ]
  },
  {
   "cell_type": "code",
   "execution_count": 10,
   "metadata": {},
   "outputs": [
    {
     "data": {
      "text/html": [
       "<div>\n",
       "<style scoped>\n",
       "    .dataframe tbody tr th:only-of-type {\n",
       "        vertical-align: middle;\n",
       "    }\n",
       "\n",
       "    .dataframe tbody tr th {\n",
       "        vertical-align: top;\n",
       "    }\n",
       "\n",
       "    .dataframe thead th {\n",
       "        text-align: right;\n",
       "    }\n",
       "</style>\n",
       "<table border=\"1\" class=\"dataframe\">\n",
       "  <thead>\n",
       "    <tr style=\"text-align: right;\">\n",
       "      <th></th>\n",
       "      <th>system:index</th>\n",
       "      <th>2018-01-31 00:00:00</th>\n",
       "      <th>2019-01-31 00:00:00</th>\n",
       "      <th>2020-01-31 00:00:00</th>\n",
       "      <th>2018-02-28 00:00:00</th>\n",
       "      <th>2019-02-28 00:00:00</th>\n",
       "      <th>2020-02-29 00:00:00</th>\n",
       "      <th>2018-03-31 00:00:00</th>\n",
       "      <th>2019-03-31 00:00:00</th>\n",
       "      <th>2020-03-31 00:00:00</th>\n",
       "      <th>...</th>\n",
       "      <th>2020-10-31 00:00:00</th>\n",
       "      <th>2018-11-30 00:00:00</th>\n",
       "      <th>2019-11-30 00:00:00</th>\n",
       "      <th>2020-11-30 00:00:00</th>\n",
       "      <th>2018-12-31 00:00:00</th>\n",
       "      <th>2019-12-31 00:00:00</th>\n",
       "      <th>2020-12-31 00:00:00</th>\n",
       "      <th>date</th>\n",
       "      <th>.geo</th>\n",
       "      <th>geometry</th>\n",
       "    </tr>\n",
       "  </thead>\n",
       "  <tbody>\n",
       "    <tr>\n",
       "      <th>0</th>\n",
       "      <td>0</td>\n",
       "      <td>0.4125303030014038</td>\n",
       "      <td>0.28317514061927795</td>\n",
       "      <td></td>\n",
       "      <td>0.4605826437473297</td>\n",
       "      <td>0.2888960540294647</td>\n",
       "      <td></td>\n",
       "      <td>0.04861186072230339</td>\n",
       "      <td>0.4281831681728363</td>\n",
       "      <td>0.29043781757354736</td>\n",
       "      <td>...</td>\n",
       "      <td>0.12893478572368622</td>\n",
       "      <td>0.15392448008060455</td>\n",
       "      <td>0.2333373874425888</td>\n",
       "      <td>0.0888809934258461</td>\n",
       "      <td>0.13741245865821838</td>\n",
       "      <td>0.21476705372333527</td>\n",
       "      <td>0.18726448714733124</td>\n",
       "      <td>2020-02-03</td>\n",
       "      <td>{\"type\":\"Point\",\"coordinates\":[35.32,-15.39]}</td>\n",
       "      <td>POINT (35.32000 -15.39000)</td>\n",
       "    </tr>\n",
       "    <tr>\n",
       "      <th>1</th>\n",
       "      <td>1</td>\n",
       "      <td>0.1489490121603012</td>\n",
       "      <td>0.14988276362419128</td>\n",
       "      <td>0.07585914433002472</td>\n",
       "      <td>0.1529611498117447</td>\n",
       "      <td>0.1530293971300125</td>\n",
       "      <td>0.13753148913383484</td>\n",
       "      <td>0.14787781238555908</td>\n",
       "      <td>0.14382785558700562</td>\n",
       "      <td>0.1411036103963852</td>\n",
       "      <td>...</td>\n",
       "      <td>0.1493956297636032</td>\n",
       "      <td>0.17961393296718597</td>\n",
       "      <td>0.18961374461650848</td>\n",
       "      <td>0.14799261093139648</td>\n",
       "      <td>0.14081870019435883</td>\n",
       "      <td>0.1573752611875534</td>\n",
       "      <td>0.14265429973602295</td>\n",
       "      <td>2020-02-03</td>\n",
       "      <td>{\"type\":\"Point\",\"coordinates\":[95.13,22.12]}</td>\n",
       "      <td>POINT (95.13000 22.12000)</td>\n",
       "    </tr>\n",
       "    <tr>\n",
       "      <th>2</th>\n",
       "      <td>2</td>\n",
       "      <td>0.0806429535150528</td>\n",
       "      <td>0.24006950855255127</td>\n",
       "      <td></td>\n",
       "      <td>0.27887722849845886</td>\n",
       "      <td>0.21174614131450653</td>\n",
       "      <td>0.07262792438268661</td>\n",
       "      <td>0.19706475734710693</td>\n",
       "      <td>0.3393693268299103</td>\n",
       "      <td>0.3207225203514099</td>\n",
       "      <td>...</td>\n",
       "      <td>0.10629143565893173</td>\n",
       "      <td>0.15993763506412506</td>\n",
       "      <td>0.11631131172180176</td>\n",
       "      <td>0.12974923849105835</td>\n",
       "      <td>0.09734513610601425</td>\n",
       "      <td>0.08893191069364548</td>\n",
       "      <td>0.13890498876571655</td>\n",
       "      <td>2020-02-03</td>\n",
       "      <td>{\"type\":\"Point\",\"coordinates\":[35.27,-13.06]}</td>\n",
       "      <td>POINT (35.27000 -13.06000)</td>\n",
       "    </tr>\n",
       "    <tr>\n",
       "      <th>3</th>\n",
       "      <td>3</td>\n",
       "      <td>0.10528296232223511</td>\n",
       "      <td>0.11243504285812378</td>\n",
       "      <td>0.10332165658473969</td>\n",
       "      <td>0.09719745069742203</td>\n",
       "      <td>0.10230612009763718</td>\n",
       "      <td>0.10391374677419662</td>\n",
       "      <td>0.1181308925151825</td>\n",
       "      <td>0.12203951179981232</td>\n",
       "      <td>0.11014188826084137</td>\n",
       "      <td>...</td>\n",
       "      <td>0.17543266713619232</td>\n",
       "      <td>0.14706951379776</td>\n",
       "      <td>0.15695501863956451</td>\n",
       "      <td>0.13548612594604492</td>\n",
       "      <td>0.1449538916349411</td>\n",
       "      <td>0.12134287506341934</td>\n",
       "      <td>0.1356714963912964</td>\n",
       "      <td>2020-02-03</td>\n",
       "      <td>{\"type\":\"Point\",\"coordinates\":[95.25,18.82]}</td>\n",
       "      <td>POINT (95.25000 18.82000)</td>\n",
       "    </tr>\n",
       "    <tr>\n",
       "      <th>4</th>\n",
       "      <td>4</td>\n",
       "      <td>0.1757315993309021</td>\n",
       "      <td>0.28190967440605164</td>\n",
       "      <td>0.20617562532424927</td>\n",
       "      <td>0.22363631427288055</td>\n",
       "      <td>0.2966252565383911</td>\n",
       "      <td>0.272464394569397</td>\n",
       "      <td>0.16276976466178894</td>\n",
       "      <td>0.15331533551216125</td>\n",
       "      <td>0.1397293210029602</td>\n",
       "      <td>...</td>\n",
       "      <td>0.2134152054786682</td>\n",
       "      <td>0.21598206460475922</td>\n",
       "      <td>0.1467892825603485</td>\n",
       "      <td>0.05699864402413368</td>\n",
       "      <td>0.1592201441526413</td>\n",
       "      <td>0.12017294019460678</td>\n",
       "      <td>0.09885216504335403</td>\n",
       "      <td>2020-02-03</td>\n",
       "      <td>{\"type\":\"Point\",\"coordinates\":[95.36,18.7]}</td>\n",
       "      <td>POINT (95.36000 18.70000)</td>\n",
       "    </tr>\n",
       "  </tbody>\n",
       "</table>\n",
       "<p>5 rows × 40 columns</p>\n",
       "</div>"
      ],
      "text/plain": [
       "  system:index  2018-01-31 00:00:00  2019-01-31 00:00:00  2020-01-31 00:00:00  \\\n",
       "0            0   0.4125303030014038  0.28317514061927795                        \n",
       "1            1   0.1489490121603012  0.14988276362419128  0.07585914433002472   \n",
       "2            2   0.0806429535150528  0.24006950855255127                        \n",
       "3            3  0.10528296232223511  0.11243504285812378  0.10332165658473969   \n",
       "4            4   0.1757315993309021  0.28190967440605164  0.20617562532424927   \n",
       "\n",
       "   2018-02-28 00:00:00  2019-02-28 00:00:00  2020-02-29 00:00:00  \\\n",
       "0   0.4605826437473297   0.2888960540294647                        \n",
       "1   0.1529611498117447   0.1530293971300125  0.13753148913383484   \n",
       "2  0.27887722849845886  0.21174614131450653  0.07262792438268661   \n",
       "3  0.09719745069742203  0.10230612009763718  0.10391374677419662   \n",
       "4  0.22363631427288055   0.2966252565383911    0.272464394569397   \n",
       "\n",
       "   2018-03-31 00:00:00  2019-03-31 00:00:00  2020-03-31 00:00:00  ...  \\\n",
       "0  0.04861186072230339   0.4281831681728363  0.29043781757354736  ...   \n",
       "1  0.14787781238555908  0.14382785558700562   0.1411036103963852  ...   \n",
       "2  0.19706475734710693   0.3393693268299103   0.3207225203514099  ...   \n",
       "3   0.1181308925151825  0.12203951179981232  0.11014188826084137  ...   \n",
       "4  0.16276976466178894  0.15331533551216125   0.1397293210029602  ...   \n",
       "\n",
       "   2020-10-31 00:00:00  2018-11-30 00:00:00  2019-11-30 00:00:00  \\\n",
       "0  0.12893478572368622  0.15392448008060455   0.2333373874425888   \n",
       "1   0.1493956297636032  0.17961393296718597  0.18961374461650848   \n",
       "2  0.10629143565893173  0.15993763506412506  0.11631131172180176   \n",
       "3  0.17543266713619232     0.14706951379776  0.15695501863956451   \n",
       "4   0.2134152054786682  0.21598206460475922   0.1467892825603485   \n",
       "\n",
       "   2020-11-30 00:00:00  2018-12-31 00:00:00  2019-12-31 00:00:00  \\\n",
       "0   0.0888809934258461  0.13741245865821838  0.21476705372333527   \n",
       "1  0.14799261093139648  0.14081870019435883   0.1573752611875534   \n",
       "2  0.12974923849105835  0.09734513610601425  0.08893191069364548   \n",
       "3  0.13548612594604492   0.1449538916349411  0.12134287506341934   \n",
       "4  0.05699864402413368   0.1592201441526413  0.12017294019460678   \n",
       "\n",
       "   2020-12-31 00:00:00       date  \\\n",
       "0  0.18726448714733124 2020-02-03   \n",
       "1  0.14265429973602295 2020-02-03   \n",
       "2  0.13890498876571655 2020-02-03   \n",
       "3   0.1356714963912964 2020-02-03   \n",
       "4  0.09885216504335403 2020-02-03   \n",
       "\n",
       "                                            .geo                    geometry  \n",
       "0  {\"type\":\"Point\",\"coordinates\":[35.32,-15.39]}  POINT (35.32000 -15.39000)  \n",
       "1   {\"type\":\"Point\",\"coordinates\":[95.13,22.12]}   POINT (95.13000 22.12000)  \n",
       "2  {\"type\":\"Point\",\"coordinates\":[35.27,-13.06]}  POINT (35.27000 -13.06000)  \n",
       "3   {\"type\":\"Point\",\"coordinates\":[95.25,18.82]}   POINT (95.25000 18.82000)  \n",
       "4    {\"type\":\"Point\",\"coordinates\":[95.36,18.7]}   POINT (95.36000 18.70000)  \n",
       "\n",
       "[5 rows x 40 columns]"
      ]
     },
     "execution_count": 10,
     "metadata": {},
     "output_type": "execute_result"
    }
   ],
   "source": [
    "ndvi.head()"
   ]
  },
  {
   "cell_type": "markdown",
   "metadata": {},
   "source": [
    "To visualize a sample time series, we want to first filter only the columns that are from the year the sample was collected in."
   ]
  },
  {
   "cell_type": "code",
   "execution_count": 11,
   "metadata": {},
   "outputs": [],
   "source": [
    "idx = 1930\n",
    "s = ndvi.filter(like='%s' % ndvi.loc[idx, 'date'].year, axis='columns').loc[idx]"
   ]
  },
  {
   "cell_type": "markdown",
   "metadata": {},
   "source": [
    "Convert string values to numeric values and plot the 12-month time series."
   ]
  },
  {
   "cell_type": "code",
   "execution_count": 12,
   "metadata": {},
   "outputs": [
    {
     "name": "stderr",
     "output_type": "stream",
     "text": [
      "/Users/hkerner/anaconda2/envs/geo_env/lib/python3.7/site-packages/pandas/plotting/_matplotlib/converter.py:103: FutureWarning: Using an implicitly registered datetime converter for a matplotlib plotting method. The converter was registered by pandas on import. Future versions of pandas will require you to explicitly register matplotlib converters.\n",
      "\n",
      "To register the converters:\n",
      "\t>>> from pandas.plotting import register_matplotlib_converters\n",
      "\t>>> register_matplotlib_converters()\n",
      "  warnings.warn(msg, FutureWarning)\n"
     ]
    },
    {
     "data": {
      "text/plain": [
       "Text(0.5, 0, 'Date')"
      ]
     },
     "execution_count": 12,
     "metadata": {},
     "output_type": "execute_result"
    },
    {
     "data": {
      "image/png": "[encoded data removed]",
      "text/plain": [
       "<Figure size 432x288 with 1 Axes>"
      ]
     },
     "metadata": {
      "needs_background": "light"
     },
     "output_type": "display_data"
    }
   ],
   "source": [
    "plt.plot(pd.to_numeric(s).interpolate(method='bfill'))\n",
    "plt.ylabel('NDVI')\n",
    "plt.xlabel('Date')"
   ]
  }
 ],
 "metadata": {
  "kernelspec": {
   "display_name": "Python 3",
   "language": "python",
   "name": "python3"
  },
  "language_info": {
   "codemirror_mode": {
    "name": "ipython",
    "version": 3
   },
   "file_extension": ".py",
   "mimetype": "text/x-python",
   "name": "python",
   "nbconvert_exporter": "python",
   "pygments_lexer": "ipython3",
   "version": "3.7.3"
  }
 },
 "nbformat": 4,
 "nbformat_minor": 2
}
